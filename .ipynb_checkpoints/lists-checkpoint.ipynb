{
 "cells": [
  {
   "cell_type": "code",
   "execution_count": 79,
   "metadata": {},
   "outputs": [
    {
     "name": "stdout",
     "output_type": "stream",
     "text": [
      "type =  <class 'list'>\n",
      "isList True\n",
      "list =  [1, 2, 3, 4, 5]\n",
      "current ele =  1\n",
      "current ele =  2\n",
      "current ele =  3\n",
      "current ele =  4\n",
      "current ele =  5\n",
      "last element =  5\n",
      "elements =  [1, 2, 3, 4, 5]\n",
      "first 2 elements =  [1, 2]\n",
      "last 2 elements =  [3, 4, 5]\n",
      "4 exists =  True\n",
      "-4 exists =  False\n"
     ]
    }
   ],
   "source": [
    "#\n",
    "# Lists\n",
    "#\n",
    "n = [1,2,3,4, 5]\n",
    "\n",
    "# type\n",
    "print('type = ', type(n))\n",
    "print('isList', isinstance(n, list))\n",
    "\n",
    "print('list = ', n)\n",
    "\n",
    "# for loop on lists\n",
    "for x in n:\n",
    "    print('current ele = ', x)\n",
    "\n",
    "# last element\n",
    "print('last element = ', n[-1])\n",
    "\n",
    "# slice\n",
    "print('elements = ', n[:])\n",
    "print('first 2 elements = ', n[:2])\n",
    "print('last 2 elements = ', n[2:])\n",
    "\n",
    "\n",
    "# in\n",
    "print('4 exists = ',4 in n)\n",
    "print('-4 exists = ',-4 in n)\n",
    "\n"
   ]
  },
  {
   "cell_type": "code",
   "execution_count": 35,
   "metadata": {},
   "outputs": [
    {
     "name": "stdout",
     "output_type": "stream",
     "text": [
      "n =  [1, 2, 3, 4, 5]\n",
      "len =  5\n",
      "after delete, [1, 2, 3, 4]\n"
     ]
    }
   ],
   "source": [
    "#\n",
    "# pre-defined functions\n",
    "#\n",
    "\n",
    "n = [1,2,3,4, 5]\n",
    "print('n = ', n)\n",
    "\n",
    "# size\n",
    "print('len = ', len(n))\n",
    "\n",
    "# delete\n",
    "del n[-1]\n",
    "print('after delete,', n)\n"
   ]
  },
  {
   "cell_type": "code",
   "execution_count": 40,
   "metadata": {},
   "outputs": [
    {
     "name": "stdout",
     "output_type": "stream",
     "text": [
      "reverse sorted =  [5, 4, 3, 2, 1]\n",
      "sorted =  [1, 2, 3, 4, 5]\n",
      "after append, [1, 2, 3, 4, 5, 9]\n",
      "after insert at 2nd positon, [1, 222, 2, 3, 4, 5, 9]\n"
     ]
    }
   ],
   "source": [
    "#\n",
    "# pre-defined methods\n",
    "#\n",
    "n = [1,2,3,4, 5]\n",
    "\n",
    "n.reverse()\n",
    "print('reverse sorted = ', n)\n",
    "\n",
    "n.sort()\n",
    "print('sorted = ', n)\n",
    "\n",
    "# append\n",
    "n.append(9)\n",
    "print('after append,', n)\n",
    "\n",
    "# insert \n",
    "n.insert(1, 222)\n",
    "print('after insert at 2nd positon,', n)\n"
   ]
  },
  {
   "cell_type": "code",
   "execution_count": 55,
   "metadata": {},
   "outputs": [
    {
     "name": "stdout",
     "output_type": "stream",
     "text": [
      "emp =  [123, 'Abc', 'Programmer', 567889.9, True]\n"
     ]
    }
   ],
   "source": [
    "# multi types\n",
    "\n",
    "emp = [123, 'Abc', 'Programmer', 567889.9, True]\n",
    "print('emp = ', emp)"
   ]
  },
  {
   "cell_type": "code",
   "execution_count": 38,
   "metadata": {},
   "outputs": [
    {
     "name": "stdout",
     "output_type": "stream",
     "text": [
      "m =  [1, 2, 3, 4, 5]\n",
      "n =  [1, 2, 3, 4, 5]\n",
      "after del element from n..\n",
      "m =  [1, 2, 4, 5]\n",
      "n =  [1, 2, 4, 5]\n"
     ]
    }
   ],
   "source": [
    "# assignment by ref\n",
    "n = [1,2,3,4, 5]\n",
    "m = n\n",
    "\n",
    "print('m = ', m)\n",
    "print('n = ', n)\n",
    "\n",
    "del n[2]\n",
    "\n",
    "print ('after del element from n..')\n",
    "print('m = ', m)\n",
    "print('n = ', n)\n"
   ]
  },
  {
   "cell_type": "code",
   "execution_count": 39,
   "metadata": {},
   "outputs": [
    {
     "name": "stdout",
     "output_type": "stream",
     "text": [
      "m =  [1, 2, 3, 4, 5]\n",
      "n =  [1, 2, 3, 4, 5]\n",
      "after del element from n..\n",
      "m =  [1, 2, 3, 4, 5]\n",
      "n =  [1, 2, 4, 5]\n"
     ]
    }
   ],
   "source": [
    "# copy\n",
    "\n",
    "n = [1,2,3,4, 5]\n",
    "m = n[:]\n",
    "\n",
    "print('m = ', m)\n",
    "print('n = ', n)\n",
    "\n",
    "del n[2]\n",
    "\n",
    "print ('after del element from n..')\n",
    "print('m = ', m)\n",
    "print('n = ', n)\n"
   ]
  },
  {
   "cell_type": "code",
   "execution_count": 48,
   "metadata": {},
   "outputs": [
    {
     "name": "stdout",
     "output_type": "stream",
     "text": [
      "n =  [1, 2, 3, 4, 5]\n",
      "copy =  [1, 2, 3, 4, 5]\n",
      "squares =  [1, 4, 9, 16, 25]\n",
      "evens =  [2, 4]\n"
     ]
    }
   ],
   "source": [
    "# compression\n",
    "# [expression for element in list if conditional]\n",
    "n = [1, 2, 3, 4, 5]\n",
    "\n",
    "print(\"n = \", n)\n",
    "\n",
    "copy = [i for i in n]\n",
    "print(\"copy = \", copy)\n",
    "\n",
    "squares = [i**2 for i in n]\n",
    "print(\"squares = \", squares)\n",
    "\n",
    "evens = [i for i in n if i%2==0]\n",
    "print(\"evens = \", evens)\n"
   ]
  },
  {
   "cell_type": "code",
   "execution_count": 83,
   "metadata": {},
   "outputs": [
    {
     "name": "stdout",
     "output_type": "stream",
     "text": [
      "employees,  [[1, 'abc', 24], [2, 'xyz', 25]]\n",
      "thrD [[['R', 'R', 'R'], ['R', 'R', 'R'], ['R', 'R', 'R']], [['G', 'G', 'G'], ['G', 'G', 'G'], ['G', 'G', 'G']], [['B', 'B', 'B'], ['B', 'B', 'B'], ['B', 'B', 'B']]]\n",
      "[['B', 'B', 'B'], ['B', 'B', 'B'], ['B', 'B', 'B']]\n",
      "3\n",
      "emps shape (2, 3)\n",
      "threeD shape (3, 3, 3)\n"
     ]
    }
   ],
   "source": [
    "# multi-dimension\n",
    "\n",
    "emps = [\n",
    "    [1, 'abc', 24],\n",
    "    [2, 'xyz', 25]\n",
    "]\n",
    "print('employees, ', emps)\n",
    "\n",
    "\n",
    "thrD = [\n",
    "    [\n",
    "        ['R', 'R', 'R'],\n",
    "        ['R', 'R', 'R'],\n",
    "        ['R', 'R', 'R']\n",
    "        \n",
    "    ],\n",
    "        [\n",
    "        ['G', 'G', 'G'],\n",
    "        ['G', 'G', 'G'],\n",
    "        ['G', 'G', 'G']\n",
    "        \n",
    "    ],\n",
    "        [\n",
    "        ['B', 'B', 'B'],\n",
    "        ['B', 'B', 'B'],\n",
    "        ['B', 'B', 'B']\n",
    "        \n",
    "    ]\n",
    "]\n",
    "\n",
    "print('thrD', thrD)\n",
    "\n",
    "print(thrD[:][:][2])\n",
    "\n",
    "print(len(thrD))\n",
    "\n",
    "import numpy as np\n",
    "npEmps = np.array(emps)\n",
    "print('emps shape', npEmps.shape)\n",
    "npThrD = np.array(thrD)\n",
    "print('threeD shape', npThrD.shape)\n"
   ]
  },
  {
   "cell_type": "code",
   "execution_count": null,
   "metadata": {},
   "outputs": [],
   "source": []
  }
 ],
 "metadata": {
  "kernelspec": {
   "display_name": "Python 3",
   "language": "python",
   "name": "python3"
  },
  "language_info": {
   "codemirror_mode": {
    "name": "ipython",
    "version": 3
   },
   "file_extension": ".py",
   "mimetype": "text/x-python",
   "name": "python",
   "nbconvert_exporter": "python",
   "pygments_lexer": "ipython3",
   "version": "3.7.3"
  }
 },
 "nbformat": 4,
 "nbformat_minor": 2
}
